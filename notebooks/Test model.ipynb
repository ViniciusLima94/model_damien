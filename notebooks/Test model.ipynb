{
 "cells": [
  {
   "cell_type": "code",
   "execution_count": 1,
   "id": "70f95730-05ec-4ca6-a3a8-62dd0e055bc7",
   "metadata": {},
   "outputs": [],
   "source": [
    "import sys\n",
    "\n",
    "sys.path.insert(1, \"/home/vinicius/storage1/projects/model_damien\")"
   ]
  },
  {
   "cell_type": "code",
   "execution_count": 2,
   "id": "66d2c855-db48-4f3e-8cce-0ed5baf5f503",
   "metadata": {},
   "outputs": [],
   "source": [
    "import numpy as np"
   ]
  },
  {
   "cell_type": "code",
   "execution_count": 3,
   "id": "180093dd-6e7e-43b2-bc3f-b1f248b9da4a",
   "metadata": {},
   "outputs": [],
   "source": [
    "from brian2 import *\n",
    "\n",
    "from src.model import create_neuron_group, set_up_scope"
   ]
  },
  {
   "cell_type": "markdown",
   "id": "d4d46862-9a3a-49f5-bfed-a6f896f86e45",
   "metadata": {},
   "source": [
    "#### Set parameters to create neuron group"
   ]
  },
  {
   "cell_type": "code",
   "execution_count": 4,
   "id": "9b8c48cc-be6f-4780-bb0f-c28414a9d821",
   "metadata": {},
   "outputs": [],
   "source": [
    "kw_neuron_group = dict(\n",
    "    N=3000,\n",
    "    threshold=\"V>Vth\",\n",
    "    refractory=\"V>Vth\",\n",
    "    method=\"heun\",\n",
    "    init_states=[-15.0, 0.45, -3.5, -12.0],\n",
    "    k_bath=15.5,\n",
    "    eta_bar=0.1,\n",
    "    Delta=1.0,\n",
    "    connection_rule=\"i!=j\",\n",
    "    parameters_path=\"/home/vinicius/storage1/projects/model_damien/src/parameters.json\",\n",
    "    verbose=True,\n",
    ")"
   ]
  },
  {
   "cell_type": "markdown",
   "id": "ef1f8030-566b-4f32-af51-0ef2276ae7cb",
   "metadata": {},
   "source": [
    "#### Create neuronal group"
   ]
  },
  {
   "cell_type": "code",
   "execution_count": 5,
   "id": "ee7102c5-7841-4399-981b-bc137508f372",
   "metadata": {},
   "outputs": [
    {
     "name": "stdout",
     "output_type": "stream",
     "text": [
      "K_bath=15.50\n",
      "J=0.000\n"
     ]
    }
   ],
   "source": [
    "group, net, state_monitor, spike_monitor, fr_monitor = create_neuron_group(\n",
    "    **kw_neuron_group\n",
    ")"
   ]
  },
  {
   "cell_type": "markdown",
   "id": "2824347a-aec0-4a2c-9dee-e3de545a7269",
   "metadata": {},
   "source": [
    "#### Set up score and run simulation"
   ]
  },
  {
   "cell_type": "code",
   "execution_count": 6,
   "id": "4d899027-d05e-44bc-801a-c4e1089ecb4b",
   "metadata": {},
   "outputs": [],
   "source": [
    "runtime = set_up_scope(delta_t=0.01, duration=1 / 3)"
   ]
  },
  {
   "cell_type": "code",
   "execution_count": 7,
   "id": "44de78cb-00c3-4940-8512-15c357a023d7",
   "metadata": {},
   "outputs": [
    {
     "name": "stderr",
     "output_type": "stream",
     "text": [
      "WARNING    Came across an abstract code block that may not be well-defined: the outcome may depend on the order of execution. You can ignore this warning if you are sure that the order of operations does not matter. Abstract code: 'V += J * (E - V) (in-place)'\n",
      " [brian2.codegen.generators.base]\n"
     ]
    },
    {
     "name": "stdout",
     "output_type": "stream",
     "text": [
      "Starting simulation at t=0. s for a duration of 20. s\n",
      "0.84051 s (4%) simulated in 30s, estimated 11m 24s remaining.\n",
      "1.69081 s (8%) simulated in 1m 0s, estimated 10m 50s remaining.\n",
      "2.54061 s (12%) simulated in 1m 30s, estimated 10m 18s remaining.\n",
      "3.38559 s (16%) simulated in 2m 0s, estimated 9m 49s remaining.\n",
      "4.23765 s (21%) simulated in 2m 30s, estimated 9m 18s remaining.\n",
      "5.08086 s (25%) simulated in 3m 0s, estimated 8m 49s remaining.\n",
      "5.91739 s (29%) simulated in 3m 30s, estimated 8m 20s remaining.\n",
      "6.7494 s (33%) simulated in 4m 0s, estimated 7m 51s remaining.\n",
      "7.58669 s (37%) simulated in 4m 30s, estimated 7m 22s remaining.\n",
      "8.41798 s (42%) simulated in 5m 0s, estimated 6m 53s remaining.\n",
      "9.25823 s (46%) simulated in 5m 30s, estimated 6m 23s remaining.\n",
      "10.11523 s (50%) simulated in 6m 0s, estimated 5m 52s remaining.\n",
      "10.93234 s (54%) simulated in 6m 30s, estimated 5m 23s remaining.\n",
      "11.78017 s (58%) simulated in 7m 0s, estimated 4m 53s remaining.\n",
      "12.62753 s (63%) simulated in 7m 30s, estimated 4m 23s remaining.\n",
      "13.48001 s (67%) simulated in 8m 0s, estimated 3m 52s remaining.\n",
      "14.31819 s (71%) simulated in 8m 30s, estimated 3m 22s remaining.\n",
      "15.17184 s (75%) simulated in 9m 0s, estimated 2m 52s remaining.\n",
      "16.01555 s (80%) simulated in 9m 30s, estimated 2m 22s remaining.\n",
      "16.82124 s (84%) simulated in 10m 0s, estimated 1m 53s remaining.\n",
      "17.65111 s (88%) simulated in 10m 30s, estimated 1m 24s remaining.\n",
      "18.49555 s (92%) simulated in 11m 0s, estimated 54s remaining.\n",
      "19.36073 s (96%) simulated in 11m 30s, estimated 23s remaining.\n",
      "20. s (100%) simulated in 11m 52s\n"
     ]
    }
   ],
   "source": [
    "net.run(runtime, report=\"stdout\", report_period=30 * second)"
   ]
  },
  {
   "cell_type": "code",
   "execution_count": 8,
   "id": "23321d65-33b4-4d37-a6ba-0a21398b7dcb",
   "metadata": {},
   "outputs": [
    {
     "name": "stderr",
     "output_type": "stream",
     "text": [
      "WARNING    Came across an abstract code block that may not be well-defined: the outcome may depend on the order of execution. You can ignore this warning if you are sure that the order of operations does not matter. Abstract code: 'V += J * (E - V) (in-place)'\n",
      " [brian2.codegen.generators.base]\n"
     ]
    }
   ],
   "source": [
    "net.run(1 * second)"
   ]
  },
  {
   "cell_type": "code",
   "execution_count": 17,
   "id": "fe12e5b2-b0ae-4a47-aa67-f3189cd07b49",
   "metadata": {},
   "outputs": [
    {
     "data": {
      "text/plain": [
       "[<matplotlib.lines.Line2D at 0x7f1a2cc9d6a0>]"
      ]
     },
     "execution_count": 17,
     "metadata": {},
     "output_type": "execute_result"
    },
    {
     "data": {
      "image/png": "[encoded data removed]",
      "text/plain": [
       "<Figure size 432x288 with 1 Axes>"
      ]
     },
     "metadata": {
      "needs_background": "light"
     },
     "output_type": "display_data"
    }
   ],
   "source": [
    "plt.plot(state_monitor.V[3])"
   ]
  },
  {
   "cell_type": "code",
   "execution_count": null,
   "id": "7e6ab974-f9ff-4802-a3aa-a941468422d8",
   "metadata": {},
   "outputs": [],
   "source": []
  }
 ],
 "metadata": {
  "kernelspec": {
   "display_name": "Python 3",
   "language": "python",
   "name": "python3"
  },
  "language_info": {
   "codemirror_mode": {
    "name": "ipython",
    "version": 3
   },
   "file_extension": ".py",
   "mimetype": "text/x-python",
   "name": "python",
   "nbconvert_exporter": "python",
   "pygments_lexer": "ipython3",
   "version": "3.8.8"
  }
 },
 "nbformat": 4,
 "nbformat_minor": 5
}
