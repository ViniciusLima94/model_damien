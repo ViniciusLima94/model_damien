{
 "cells": [
  {
   "cell_type": "code",
   "execution_count": 1,
   "id": "70f95730-05ec-4ca6-a3a8-62dd0e055bc7",
   "metadata": {},
   "outputs": [],
   "source": [
    "import sys\n",
    "\n",
    "sys.path.insert(1, \"/home/vinicius/storage1/projects/model_damien\")"
   ]
  },
  {
   "cell_type": "code",
   "execution_count": 2,
   "id": "66d2c855-db48-4f3e-8cce-0ed5baf5f503",
   "metadata": {},
   "outputs": [],
   "source": [
    "import numpy as np"
   ]
  },
  {
   "cell_type": "code",
   "execution_count": 3,
   "id": "180093dd-6e7e-43b2-bc3f-b1f248b9da4a",
   "metadata": {},
   "outputs": [],
   "source": [
    "from src.model import create_neuron_group, set_up_scope\n",
    "from brian2 import *"
   ]
  },
  {
   "cell_type": "markdown",
   "id": "d4d46862-9a3a-49f5-bfed-a6f896f86e45",
   "metadata": {},
   "source": [
    "#### Set parameters to create neuron group"
   ]
  },
  {
   "cell_type": "code",
   "execution_count": 4,
   "id": "9b8c48cc-be6f-4780-bb0f-c28414a9d821",
   "metadata": {},
   "outputs": [],
   "source": [
    "kw_neuron_group = dict(\n",
    "    N=3000,\n",
    "    threshold=\"V>Vth\",\n",
    "    refractory=\"V>Vth\",\n",
    "    method=\"heun\",\n",
    "    init_states=[-15.0, 0.45, -3.5, -12.0],\n",
    "    k_bath=15.5,\n",
    "    eta_bar=0.1,\n",
    "    Delta=1.0,\n",
    "    connection_rule=\"i!=j\",\n",
    "    parameters_path=\"/home/vinicius/storage1/projects/model_damien/src/parameters.json\",\n",
    "    verbose=True,\n",
    ")"
   ]
  },
  {
   "cell_type": "markdown",
   "id": "ef1f8030-566b-4f32-af51-0ef2276ae7cb",
   "metadata": {},
   "source": [
    "#### Create neuronal group"
   ]
  },
  {
   "cell_type": "code",
   "execution_count": 5,
   "id": "ee7102c5-7841-4399-981b-bc137508f372",
   "metadata": {},
   "outputs": [
    {
     "name": "stdout",
     "output_type": "stream",
     "text": [
      "K_bath=15.50\n",
      "J=0.000\n"
     ]
    }
   ],
   "source": [
    "group, net, state_monitor, spike_monitor, fr_monitor = create_neuron_group(\n",
    "    **kw_neuron_group\n",
    ")"
   ]
  },
  {
   "cell_type": "markdown",
   "id": "2824347a-aec0-4a2c-9dee-e3de545a7269",
   "metadata": {},
   "source": [
    "#### Set up score and run simulation"
   ]
  },
  {
   "cell_type": "code",
   "execution_count": 6,
   "id": "4d899027-d05e-44bc-801a-c4e1089ecb4b",
   "metadata": {},
   "outputs": [],
   "source": [
    "runtime = set_up_scope(delta_t = 0.01, duration=1/3)"
   ]
  },
  {
   "cell_type": "code",
   "execution_count": 7,
   "id": "44de78cb-00c3-4940-8512-15c357a023d7",
   "metadata": {},
   "outputs": [
    {
     "ename": "BrianObjectException",
     "evalue": "Error encountered with object named 'neurongroup_stateupdater'.\nObject was created here (most recent call only, full details in debug log):\n  File '/home/vinicius/storage1/projects/model_damien/src/model.py', line 180, in create_neuron_group\n    group = NeuronGroup(N, eqs, threshold=threshold,\n\nAn error occurred when preparing an object. (See above for original error message and traceback.)",
     "output_type": "error",
     "traceback": [
      "\u001b[0;31m---------------------------------------------------------------------------\u001b[0m",
      "\u001b[0;31mKeyError\u001b[0m                                  Traceback (most recent call last)",
      "File \u001b[0;32m~/anaconda3/envs/gda/lib/python3.8/site-packages/brian2/core/network.py:892\u001b[0m, in \u001b[0;36mNetwork.before_run\u001b[0;34m(self, run_namespace)\u001b[0m\n\u001b[1;32m    891\u001b[0m \u001b[38;5;28;01mtry\u001b[39;00m:\n\u001b[0;32m--> 892\u001b[0m     \u001b[43mobj\u001b[49m\u001b[38;5;241;43m.\u001b[39;49m\u001b[43mbefore_run\u001b[49m\u001b[43m(\u001b[49m\u001b[43mrun_namespace\u001b[49m\u001b[43m)\u001b[49m\n\u001b[1;32m    893\u001b[0m \u001b[38;5;28;01mexcept\u001b[39;00m \u001b[38;5;167;01mException\u001b[39;00m \u001b[38;5;28;01mas\u001b[39;00m ex:\n",
      "File \u001b[0;32m~/anaconda3/envs/gda/lib/python3.8/site-packages/brian2/groups/group.py:1137\u001b[0m, in \u001b[0;36mCodeRunner.before_run\u001b[0;34m(self, run_namespace)\u001b[0m\n\u001b[1;32m   1136\u001b[0m \u001b[38;5;28;01mdef\u001b[39;00m \u001b[38;5;21mbefore_run\u001b[39m(\u001b[38;5;28mself\u001b[39m, run_namespace):\n\u001b[0;32m-> 1137\u001b[0m     \u001b[38;5;28;43mself\u001b[39;49m\u001b[38;5;241;43m.\u001b[39;49m\u001b[43mcreate_code_objects\u001b[49m\u001b[43m(\u001b[49m\u001b[43mrun_namespace\u001b[49m\u001b[43m)\u001b[49m\n\u001b[1;32m   1138\u001b[0m     \u001b[38;5;28msuper\u001b[39m(CodeRunner, \u001b[38;5;28mself\u001b[39m)\u001b[38;5;241m.\u001b[39mbefore_run(run_namespace)\n",
      "File \u001b[0;32m~/anaconda3/envs/gda/lib/python3.8/site-packages/brian2/groups/group.py:1130\u001b[0m, in \u001b[0;36mCodeRunner.create_code_objects\u001b[0;34m(self, run_namespace)\u001b[0m\n\u001b[1;32m   1127\u001b[0m \u001b[38;5;28;01mdef\u001b[39;00m \u001b[38;5;21mcreate_code_objects\u001b[39m(\u001b[38;5;28mself\u001b[39m, run_namespace):\n\u001b[1;32m   1128\u001b[0m     \u001b[38;5;66;03m# By default, we only have one code object for each CodeRunner.\u001b[39;00m\n\u001b[1;32m   1129\u001b[0m     \u001b[38;5;66;03m# Overwrite this function to use more than one.\u001b[39;00m\n\u001b[0;32m-> 1130\u001b[0m     code_object \u001b[38;5;241m=\u001b[39m \u001b[38;5;28;43mself\u001b[39;49m\u001b[38;5;241;43m.\u001b[39;49m\u001b[43mcreate_default_code_object\u001b[49m\u001b[43m(\u001b[49m\u001b[43mrun_namespace\u001b[49m\u001b[43m)\u001b[49m\n\u001b[1;32m   1131\u001b[0m     \u001b[38;5;28;01mif\u001b[39;00m code_object:\n",
      "File \u001b[0;32m~/anaconda3/envs/gda/lib/python3.8/site-packages/brian2/groups/group.py:1102\u001b[0m, in \u001b[0;36mCodeRunner.create_default_code_object\u001b[0;34m(self, run_namespace)\u001b[0m\n\u001b[1;32m   1101\u001b[0m \u001b[38;5;28;01mdef\u001b[39;00m \u001b[38;5;21mcreate_default_code_object\u001b[39m(\u001b[38;5;28mself\u001b[39m, run_namespace):\n\u001b[0;32m-> 1102\u001b[0m     \u001b[38;5;28;43mself\u001b[39;49m\u001b[38;5;241;43m.\u001b[39;49m\u001b[43mupdate_abstract_code\u001b[49m\u001b[43m(\u001b[49m\u001b[43mrun_namespace\u001b[49m\u001b[38;5;241;43m=\u001b[39;49m\u001b[43mrun_namespace\u001b[49m\u001b[43m)\u001b[49m\n\u001b[1;32m   1103\u001b[0m     \u001b[38;5;66;03m# If the CodeRunner has variables, add them\u001b[39;00m\n",
      "File \u001b[0;32m~/anaconda3/envs/gda/lib/python3.8/site-packages/brian2/groups/neurongroup.py:232\u001b[0m, in \u001b[0;36mStateUpdater.update_abstract_code\u001b[0;34m(self, run_namespace)\u001b[0m\n\u001b[1;32m    229\u001b[0m \u001b[38;5;28;01mdef\u001b[39;00m \u001b[38;5;21mupdate_abstract_code\u001b[39m(\u001b[38;5;28mself\u001b[39m, run_namespace):\n\u001b[1;32m    230\u001b[0m \n\u001b[1;32m    231\u001b[0m     \u001b[38;5;66;03m# Update the not_refractory variable for the refractory period mechanism\u001b[39;00m\n\u001b[0;32m--> 232\u001b[0m     \u001b[38;5;28mself\u001b[39m\u001b[38;5;241m.\u001b[39mabstract_code \u001b[38;5;241m=\u001b[39m \u001b[38;5;28;43mself\u001b[39;49m\u001b[38;5;241;43m.\u001b[39;49m\u001b[43m_get_refractory_code\u001b[49m\u001b[43m(\u001b[49m\u001b[43mrun_namespace\u001b[49m\u001b[38;5;241;43m=\u001b[39;49m\u001b[43mrun_namespace\u001b[49m\u001b[43m)\u001b[49m\n\u001b[1;32m    234\u001b[0m     \u001b[38;5;66;03m# Get the names used in the refractory code\u001b[39;00m\n",
      "File \u001b[0;32m~/anaconda3/envs/gda/lib/python3.8/site-packages/brian2/groups/neurongroup.py:203\u001b[0m, in \u001b[0;36mStateUpdater._get_refractory_code\u001b[0;34m(self, run_namespace)\u001b[0m\n\u001b[1;32m    202\u001b[0m identifiers \u001b[38;5;241m=\u001b[39m get_identifiers(ref)\n\u001b[0;32m--> 203\u001b[0m variables \u001b[38;5;241m=\u001b[39m \u001b[38;5;28;43mself\u001b[39;49m\u001b[38;5;241;43m.\u001b[39;49m\u001b[43mgroup\u001b[49m\u001b[38;5;241;43m.\u001b[39;49m\u001b[43mresolve_all\u001b[49m\u001b[43m(\u001b[49m\u001b[43midentifiers\u001b[49m\u001b[43m,\u001b[49m\n\u001b[1;32m    204\u001b[0m \u001b[43m                                   \u001b[49m\u001b[43mrun_namespace\u001b[49m\u001b[43m,\u001b[49m\n\u001b[1;32m    205\u001b[0m \u001b[43m                                   \u001b[49m\u001b[43muser_identifiers\u001b[49m\u001b[38;5;241;43m=\u001b[39;49m\u001b[43midentifiers\u001b[49m\u001b[43m)\u001b[49m\n\u001b[1;32m    206\u001b[0m dims \u001b[38;5;241m=\u001b[39m parse_expression_dimensions(\u001b[38;5;28mstr\u001b[39m(ref), variables)\n",
      "File \u001b[0;32m~/anaconda3/envs/gda/lib/python3.8/site-packages/brian2/groups/group.py:731\u001b[0m, in \u001b[0;36mGroup.resolve_all\u001b[0;34m(self, identifiers, run_namespace, user_identifiers, additional_variables)\u001b[0m\n\u001b[1;32m    730\u001b[0m \u001b[38;5;28;01mfor\u001b[39;00m identifier \u001b[38;5;129;01min\u001b[39;00m identifiers:\n\u001b[0;32m--> 731\u001b[0m     resolved[identifier] \u001b[38;5;241m=\u001b[39m \u001b[38;5;28;43mself\u001b[39;49m\u001b[38;5;241;43m.\u001b[39;49m\u001b[43m_resolve\u001b[49m\u001b[43m(\u001b[49m\u001b[43midentifier\u001b[49m\u001b[43m,\u001b[49m\n\u001b[1;32m    732\u001b[0m \u001b[43m                                         \u001b[49m\u001b[43muser_identifier\u001b[49m\u001b[38;5;241;43m=\u001b[39;49m\u001b[43midentifier\u001b[49m\u001b[43m \u001b[49m\u001b[38;5;129;43;01min\u001b[39;49;00m\u001b[43m \u001b[49m\u001b[43muser_identifiers\u001b[49m\u001b[43m,\u001b[49m\n\u001b[1;32m    733\u001b[0m \u001b[43m                                         \u001b[49m\u001b[43madditional_variables\u001b[49m\u001b[38;5;241;43m=\u001b[39;49m\u001b[43madditional_variables\u001b[49m\u001b[43m,\u001b[49m\n\u001b[1;32m    734\u001b[0m \u001b[43m                                         \u001b[49m\u001b[43mrun_namespace\u001b[49m\u001b[38;5;241;43m=\u001b[39;49m\u001b[43mrun_namespace\u001b[49m\u001b[43m)\u001b[49m\n\u001b[1;32m    735\u001b[0m \u001b[38;5;28;01mreturn\u001b[39;00m resolved\n",
      "File \u001b[0;32m~/anaconda3/envs/gda/lib/python3.8/site-packages/brian2/groups/group.py:691\u001b[0m, in \u001b[0;36mGroup._resolve\u001b[0;34m(self, identifier, run_namespace, user_identifier, additional_variables)\u001b[0m\n\u001b[1;32m    689\u001b[0m \u001b[38;5;66;03m# We did not find the name internally, try to resolve it in the external\u001b[39;00m\n\u001b[1;32m    690\u001b[0m \u001b[38;5;66;03m# namespace\u001b[39;00m\n\u001b[0;32m--> 691\u001b[0m \u001b[38;5;28;01mreturn\u001b[39;00m \u001b[38;5;28;43mself\u001b[39;49m\u001b[38;5;241;43m.\u001b[39;49m\u001b[43m_resolve_external\u001b[49m\u001b[43m(\u001b[49m\u001b[43midentifier\u001b[49m\u001b[43m,\u001b[49m\u001b[43m \u001b[49m\u001b[43mrun_namespace\u001b[49m\u001b[38;5;241;43m=\u001b[39;49m\u001b[43mrun_namespace\u001b[49m\u001b[43m)\u001b[49m\n",
      "File \u001b[0;32m~/anaconda3/envs/gda/lib/python3.8/site-packages/brian2/groups/group.py:814\u001b[0m, in \u001b[0;36mGroup._resolve_external\u001b[0;34m(self, identifier, run_namespace, user_identifier, internal_variable)\u001b[0m\n\u001b[1;32m    813\u001b[0m             error_msg \u001b[38;5;241m=\u001b[39m \u001b[38;5;124mf\u001b[39m\u001b[38;5;124m'\u001b[39m\u001b[38;5;124mThe identifier \u001b[39m\u001b[38;5;124m\"\u001b[39m\u001b[38;5;132;01m{\u001b[39;00midentifier\u001b[38;5;132;01m}\u001b[39;00m\u001b[38;5;124m\"\u001b[39m\u001b[38;5;124m could not be resolved.\u001b[39m\u001b[38;5;124m'\u001b[39m\n\u001b[0;32m--> 814\u001b[0m         \u001b[38;5;28;01mraise\u001b[39;00m \u001b[38;5;167;01mKeyError\u001b[39;00m(error_msg)\n\u001b[1;32m    816\u001b[0m \u001b[38;5;28;01melif\u001b[39;00m \u001b[38;5;28mlen\u001b[39m(matches) \u001b[38;5;241m>\u001b[39m \u001b[38;5;241m1\u001b[39m:\n\u001b[1;32m    817\u001b[0m     \u001b[38;5;66;03m# Possibly, all matches refer to the same object\u001b[39;00m\n",
      "\u001b[0;31mKeyError\u001b[0m: 'The identifier \"Vth\" could not be resolved.'",
      "\nThe above exception was the direct cause of the following exception:\n",
      "\u001b[0;31mBrianObjectException\u001b[0m                      Traceback (most recent call last)",
      "Cell \u001b[0;32mIn[7], line 1\u001b[0m\n\u001b[0;32m----> 1\u001b[0m \u001b[43mnet\u001b[49m\u001b[38;5;241;43m.\u001b[39;49m\u001b[43mrun\u001b[49m\u001b[43m(\u001b[49m\u001b[43mruntime\u001b[49m\u001b[43m,\u001b[49m\u001b[43m \u001b[49m\u001b[43mreport\u001b[49m\u001b[38;5;241;43m=\u001b[39;49m\u001b[38;5;124;43m\"\u001b[39;49m\u001b[38;5;124;43mstdout\u001b[39;49m\u001b[38;5;124;43m\"\u001b[39;49m\u001b[43m,\u001b[49m\u001b[43m \u001b[49m\u001b[43mreport_period\u001b[49m\u001b[38;5;241;43m=\u001b[39;49m\u001b[38;5;241;43m30\u001b[39;49m\u001b[43m \u001b[49m\u001b[38;5;241;43m*\u001b[39;49m\u001b[43m \u001b[49m\u001b[43msecond\u001b[49m\u001b[43m)\u001b[49m\n",
      "File \u001b[0;32m~/anaconda3/envs/gda/lib/python3.8/site-packages/brian2/core/base.py:293\u001b[0m, in \u001b[0;36mdevice_override.<locals>.device_override_decorator.<locals>.device_override_decorated_function\u001b[0;34m(*args, **kwds)\u001b[0m\n\u001b[1;32m    291\u001b[0m     \u001b[38;5;28;01mreturn\u001b[39;00m \u001b[38;5;28mgetattr\u001b[39m(curdev, name)(\u001b[38;5;241m*\u001b[39margs, \u001b[38;5;241m*\u001b[39m\u001b[38;5;241m*\u001b[39mkwds)\n\u001b[1;32m    292\u001b[0m \u001b[38;5;28;01melse\u001b[39;00m:\n\u001b[0;32m--> 293\u001b[0m     \u001b[38;5;28;01mreturn\u001b[39;00m \u001b[43mfunc\u001b[49m\u001b[43m(\u001b[49m\u001b[38;5;241;43m*\u001b[39;49m\u001b[43margs\u001b[49m\u001b[43m,\u001b[49m\u001b[43m \u001b[49m\u001b[38;5;241;43m*\u001b[39;49m\u001b[38;5;241;43m*\u001b[39;49m\u001b[43mkwds\u001b[49m\u001b[43m)\u001b[49m\n",
      "File \u001b[0;32m~/anaconda3/envs/gda/lib/python3.8/site-packages/brian2/units/fundamentalunits.py:2462\u001b[0m, in \u001b[0;36mcheck_units.<locals>.do_check_units.<locals>.new_f\u001b[0;34m(*args, **kwds)\u001b[0m\n\u001b[1;32m   2455\u001b[0m             error_message \u001b[38;5;241m=\u001b[39m (\u001b[38;5;124mf\u001b[39m\u001b[38;5;124m\"\u001b[39m\u001b[38;5;124mFunction \u001b[39m\u001b[38;5;124m'\u001b[39m\u001b[38;5;132;01m{\u001b[39;00mf\u001b[38;5;241m.\u001b[39m\u001b[38;5;18m__name__\u001b[39m\u001b[38;5;132;01m}\u001b[39;00m\u001b[38;5;124m'\u001b[39m\u001b[38;5;124m \u001b[39m\u001b[38;5;124m\"\u001b[39m\n\u001b[1;32m   2456\u001b[0m                              \u001b[38;5;124mf\u001b[39m\u001b[38;5;124m\"\u001b[39m\u001b[38;5;124mexpected a quantitity with unit \u001b[39m\u001b[38;5;124m\"\u001b[39m\n\u001b[1;32m   2457\u001b[0m                              \u001b[38;5;124mf\u001b[39m\u001b[38;5;124m\"\u001b[39m\u001b[38;5;132;01m{\u001b[39;00munit\u001b[38;5;132;01m}\u001b[39;00m\u001b[38;5;124m for argument \u001b[39m\u001b[38;5;124m'\u001b[39m\u001b[38;5;132;01m{\u001b[39;00mk\u001b[38;5;132;01m}\u001b[39;00m\u001b[38;5;124m'\u001b[39m\u001b[38;5;124m but got \u001b[39m\u001b[38;5;124m\"\u001b[39m\n\u001b[1;32m   2458\u001b[0m                              \u001b[38;5;124mf\u001b[39m\u001b[38;5;124m\"\u001b[39m\u001b[38;5;124m'\u001b[39m\u001b[38;5;132;01m{\u001b[39;00mvalue\u001b[38;5;132;01m}\u001b[39;00m\u001b[38;5;124m'\u001b[39m\u001b[38;5;124m\"\u001b[39m)\n\u001b[1;32m   2459\u001b[0m             \u001b[38;5;28;01mraise\u001b[39;00m DimensionMismatchError(error_message,\n\u001b[1;32m   2460\u001b[0m                                          get_dimensions(newkeyset[k]))\n\u001b[0;32m-> 2462\u001b[0m result \u001b[38;5;241m=\u001b[39m \u001b[43mf\u001b[49m\u001b[43m(\u001b[49m\u001b[38;5;241;43m*\u001b[39;49m\u001b[43margs\u001b[49m\u001b[43m,\u001b[49m\u001b[43m \u001b[49m\u001b[38;5;241;43m*\u001b[39;49m\u001b[38;5;241;43m*\u001b[39;49m\u001b[43mkwds\u001b[49m\u001b[43m)\u001b[49m\n\u001b[1;32m   2463\u001b[0m \u001b[38;5;28;01mif\u001b[39;00m \u001b[38;5;124m'\u001b[39m\u001b[38;5;124mresult\u001b[39m\u001b[38;5;124m'\u001b[39m \u001b[38;5;129;01min\u001b[39;00m au:\n\u001b[1;32m   2464\u001b[0m     \u001b[38;5;28;01mif\u001b[39;00m \u001b[38;5;28misinstance\u001b[39m(au[\u001b[38;5;124m'\u001b[39m\u001b[38;5;124mresult\u001b[39m\u001b[38;5;124m'\u001b[39m], Callable) \u001b[38;5;129;01mand\u001b[39;00m au[\u001b[38;5;124m'\u001b[39m\u001b[38;5;124mresult\u001b[39m\u001b[38;5;124m'\u001b[39m] \u001b[38;5;241m!=\u001b[39m \u001b[38;5;28mbool\u001b[39m:\n",
      "File \u001b[0;32m~/anaconda3/envs/gda/lib/python3.8/site-packages/brian2/core/network.py:1007\u001b[0m, in \u001b[0;36mNetwork.run\u001b[0;34m(self, duration, report, report_period, namespace, profile, level)\u001b[0m\n\u001b[1;32m   1004\u001b[0m \u001b[38;5;28;01mif\u001b[39;00m namespace \u001b[38;5;129;01mis\u001b[39;00m \u001b[38;5;28;01mNone\u001b[39;00m:\n\u001b[1;32m   1005\u001b[0m     namespace \u001b[38;5;241m=\u001b[39m get_local_namespace(level\u001b[38;5;241m=\u001b[39mlevel\u001b[38;5;241m+\u001b[39m\u001b[38;5;241m3\u001b[39m)\n\u001b[0;32m-> 1007\u001b[0m \u001b[38;5;28;43mself\u001b[39;49m\u001b[38;5;241;43m.\u001b[39;49m\u001b[43mbefore_run\u001b[49m\u001b[43m(\u001b[49m\u001b[43mnamespace\u001b[49m\u001b[43m)\u001b[49m\n\u001b[1;32m   1009\u001b[0m \u001b[38;5;28;01mif\u001b[39;00m \u001b[38;5;28mlen\u001b[39m(all_objects) \u001b[38;5;241m==\u001b[39m \u001b[38;5;241m0\u001b[39m:\n\u001b[1;32m   1010\u001b[0m     \u001b[38;5;28;01mreturn\u001b[39;00m  \u001b[38;5;66;03m# TODO: raise an error? warning?\u001b[39;00m\n",
      "File \u001b[0;32m~/anaconda3/envs/gda/lib/python3.8/site-packages/brian2/core/base.py:293\u001b[0m, in \u001b[0;36mdevice_override.<locals>.device_override_decorator.<locals>.device_override_decorated_function\u001b[0;34m(*args, **kwds)\u001b[0m\n\u001b[1;32m    291\u001b[0m     \u001b[38;5;28;01mreturn\u001b[39;00m \u001b[38;5;28mgetattr\u001b[39m(curdev, name)(\u001b[38;5;241m*\u001b[39margs, \u001b[38;5;241m*\u001b[39m\u001b[38;5;241m*\u001b[39mkwds)\n\u001b[1;32m    292\u001b[0m \u001b[38;5;28;01melse\u001b[39;00m:\n\u001b[0;32m--> 293\u001b[0m     \u001b[38;5;28;01mreturn\u001b[39;00m \u001b[43mfunc\u001b[49m\u001b[43m(\u001b[49m\u001b[38;5;241;43m*\u001b[39;49m\u001b[43margs\u001b[49m\u001b[43m,\u001b[49m\u001b[43m \u001b[49m\u001b[38;5;241;43m*\u001b[39;49m\u001b[38;5;241;43m*\u001b[39;49m\u001b[43mkwds\u001b[49m\u001b[43m)\u001b[49m\n",
      "File \u001b[0;32m~/anaconda3/envs/gda/lib/python3.8/site-packages/brian2/core/network.py:894\u001b[0m, in \u001b[0;36mNetwork.before_run\u001b[0;34m(self, run_namespace)\u001b[0m\n\u001b[1;32m    892\u001b[0m             obj\u001b[38;5;241m.\u001b[39mbefore_run(run_namespace)\n\u001b[1;32m    893\u001b[0m         \u001b[38;5;28;01mexcept\u001b[39;00m \u001b[38;5;167;01mException\u001b[39;00m \u001b[38;5;28;01mas\u001b[39;00m ex:\n\u001b[0;32m--> 894\u001b[0m             \u001b[38;5;28;01mraise\u001b[39;00m BrianObjectException(\u001b[38;5;124m\"\u001b[39m\u001b[38;5;124mAn error occurred when preparing an object.\u001b[39m\u001b[38;5;124m\"\u001b[39m, obj) \u001b[38;5;28;01mfrom\u001b[39;00m \u001b[38;5;21;01mex\u001b[39;00m\n\u001b[1;32m    896\u001b[0m \u001b[38;5;66;03m# Check that no object has been run as part of another network before\u001b[39;00m\n\u001b[1;32m    897\u001b[0m \u001b[38;5;28;01mfor\u001b[39;00m obj \u001b[38;5;129;01min\u001b[39;00m all_objects:\n",
      "\u001b[0;31mBrianObjectException\u001b[0m: Error encountered with object named 'neurongroup_stateupdater'.\nObject was created here (most recent call only, full details in debug log):\n  File '/home/vinicius/storage1/projects/model_damien/src/model.py', line 180, in create_neuron_group\n    group = NeuronGroup(N, eqs, threshold=threshold,\n\nAn error occurred when preparing an object. (See above for original error message and traceback.)"
     ]
    }
   ],
   "source": [
    "net.run(runtime, report=\"stdout\", report_period=30 * second)"
   ]
  },
  {
   "cell_type": "code",
   "execution_count": 15,
   "id": "23321d65-33b4-4d37-a6ba-0a21398b7dcb",
   "metadata": {},
   "outputs": [
    {
     "data": {
      "text/plain": [
       "<neurongroup.tau_n: array([4., 4., 4., ..., 4., 4., 4.]) * second>"
      ]
     },
     "execution_count": 15,
     "metadata": {},
     "output_type": "execute_result"
    }
   ],
   "source": [
    "group.tau_n"
   ]
  },
  {
   "cell_type": "code",
   "execution_count": 11,
   "id": "fe12e5b2-b0ae-4a47-aa67-f3189cd07b49",
   "metadata": {},
   "outputs": [
    {
     "data": {
      "text/html": [
       "NeuronGroup 'neurongroup' with 3000 neurons.<br>\n",
       "<b>Model:</b><nr>\n",
       "\\begin{align*}DNa_{i} &&& \\text{(unit: $\\mathrm{rad}$)}\\\\\n",
       "DNa_{o} &&& \\text{(unit: $\\mathrm{rad}$)}\\\\\n",
       "Na_{o} &&& \\text{(unit: $\\mathrm{rad}$)}\\\\\n",
       "I_Cl &= g_{Cl} \\left(V + 26.64 \\log{\\left(\\frac{Cl_{o0}}{Cl_{i0}} \\right)}\\right) && \\text{(unit of $I_{Cl}$: $\\mathrm{rad}$)}\\\\\n",
       "h_n &= 1.1 - \\frac{1.0}{e^{DChn \\left(- Chn + n\\right)} + 1.0} && \\text{(unit of $h_{n}$: $\\mathrm{rad}$)}\\\\\n",
       "DK_{o} &&& \\text{(unit: $\\mathrm{rad}$)}\\\\\n",
       "n_inf &= \\frac{1.0}{e^{\\frac{Cnk - V}{DCnk}} + 1.0} && \\text{(unit of $n_{inf}$: $\\mathrm{rad}$)}\\\\\n",
       "m_inf &= \\frac{1.0}{e^{\\frac{Cmna - V}{DCmna}} + 1.0} && \\text{(unit of $m_{inf}$: $\\mathrm{rad}$)}\\\\\n",
       "Na_{i} &&& \\text{(unit: $\\mathrm{rad}$)}\\\\\n",
       "K_{i} &&& \\text{(unit: $\\mathrm{rad}$)}\\\\\n",
       "K_{o} &&& \\text{(unit: $\\mathrm{rad}$)}\\\\\n",
       "I_Na &= \\left(V - 26.64 \\log{\\left(\\frac{Na_{o}}{Na_{i}} \\right)}\\right) \\left(g_{Na} h_{n} m_{inf} + g_{Nal}\\right) && \\text{(unit of $I_{Na}$: $\\mathrm{rad}$)}\\\\\n",
       "I_K &= \\left(V - 26.64 \\log{\\left(\\frac{K_{o}}{K_{i}} \\right)}\\right) \\left(g_{K} n + g_{Kl}\\right) && \\text{(unit of $I_{K}$: $\\mathrm{rad}$)}\\\\\n",
       "I_pump &= \\frac{1.0 \\rho}{\\left(e^{\\frac{Ckp - K_{o}}{DCkp}} + 1.0\\right) \\left(e^{\\frac{Cnap - Na_{i}}{DCnap}} + 1.0\\right)} && \\text{(unit of $I_{pump}$: $\\mathrm{rad}$)}\\\\\n",
       "\\frac{\\mathrm{d}DK_{i}}{\\mathrm{d}t} &= - \\frac{\\gamma \\left(I_{K} - 2 I_{pump}\\right)}{w_{i}} && \\text{(unit of $DK_{i}$: $\\mathrm{rad}$)}\\\\\n",
       "\\frac{\\mathrm{d}Kg}{\\mathrm{d}t} &= \\epsilon \\left(K_{bath} - K_{o}\\right) && \\text{(unit of $Kg$: $\\mathrm{rad}$)}\\\\\n",
       "\\frac{\\mathrm{d}V}{\\mathrm{d}t} &= \\frac{\\eta}{\\tau_{I}} - \\frac{1.0 \\left(I_{Cl} + I_{K} + I_{Na} + I_{pump}\\right)}{Cm} && \\text{(unit of $V$: $\\mathrm{rad}$)}\\\\\n",
       "\\frac{\\mathrm{d}n}{\\mathrm{d}t} &= \\frac{- n + n_{inf}}{\\tau_{n}} && \\text{(unit of $n$: $\\mathrm{rad}$)}\\\\\n",
       "Chn &&& \\text{(unit: $\\mathrm{rad}$)}\\\\\n",
       "Ckp &&& \\text{(unit: $\\mathrm{rad}$)}\\\\\n",
       "Cl_{i0} &&& \\text{(unit: $\\mathrm{rad}$)}\\\\\n",
       "Cl_{o0} &&& \\text{(unit: $\\mathrm{rad}$)}\\\\\n",
       "Cm &&& \\text{(unit: $\\mathrm{s}$)}\\\\\n",
       "Cmna &&& \\text{(unit: $\\mathrm{rad}$)}\\\\\n",
       "Cnap &&& \\text{(unit: $\\mathrm{rad}$)}\\\\\n",
       "Cnk &&& \\text{(unit: $\\mathrm{rad}$)}\\\\\n",
       "DChn &&& \\text{(unit: $\\mathrm{rad}$)}\\\\\n",
       "DCkp &&& \\text{(unit: $\\mathrm{rad}$)}\\\\\n",
       "DCmna &&& \\text{(unit: $\\mathrm{rad}$)}\\\\\n",
       "DCnap &&& \\text{(unit: $\\mathrm{rad}$)}\\\\\n",
       "DCnk &&& \\text{(unit: $\\mathrm{rad}$)}\\\\\n",
       "E &&& \\text{(unit: $\\mathrm{rad}$)}\\\\\n",
       "J &&& \\text{(unit: $\\mathrm{rad}$)}\\\\\n",
       "K_{bath} &&& \\text{(unit: $\\mathrm{rad}$)}\\\\\n",
       "K_{i0} &&& \\text{(unit: $\\mathrm{rad}$)}\\\\\n",
       "K_{o0} &&& \\text{(unit: $\\mathrm{rad}$)}\\\\\n",
       "Na_{i0} &&& \\text{(unit: $\\mathrm{rad}$)}\\\\\n",
       "Na_{o0} &&& \\text{(unit: $\\mathrm{rad}$)}\\\\\n",
       "\\beta &&& \\text{(unit: $\\mathrm{rad}$)}\\\\\n",
       "\\epsilon &&& \\text{(unit: $\\mathrm{Hz}$)}\\\\\n",
       "\\eta &&& \\text{(unit: $\\mathrm{rad}$)}\\\\\n",
       "g_{Cl} &&& \\text{(unit: $\\mathrm{rad}$)}\\\\\n",
       "g_{K} &&& \\text{(unit: $\\mathrm{rad}$)}\\\\\n",
       "g_{Kl} &&& \\text{(unit: $\\mathrm{rad}$)}\\\\\n",
       "g_{Na} &&& \\text{(unit: $\\mathrm{rad}$)}\\\\\n",
       "g_{Nal} &&& \\text{(unit: $\\mathrm{rad}$)}\\\\\n",
       "\\gamma &&& \\text{(unit: $\\mathrm{Hz}$)}\\\\\n",
       "lastspike &&& \\text{(unit: $\\mathrm{s}$)}\\\\\n",
       "not_{refractory} &&& \\text{(unit: $\\mathrm{rad}$)}\\\\\n",
       "\\rho &&& \\text{(unit: $\\mathrm{rad}$)}\\\\\n",
       "\\tau_{I} &&& \\text{(unit: $\\mathrm{s}$)}\\\\\n",
       "\\tau_{n} &&& \\text{(unit: $\\mathrm{s}$)}\\\\\n",
       "w_{i} &&& \\text{(unit: $\\mathrm{rad}$)}\\\\\n",
       "w_{o} &&& \\text{(unit: $\\mathrm{rad}$)}\\end{align*}\n",
       "<b>Spiking behaviour:</b><ul style=\"list-style-type: none; margin-top: 0px;\">\n",
       "<li><i>Threshold condition: </i>\n",
       "<code>V>Vth</code></li>\n",
       "</ul>"
      ],
      "text/plain": [
       "NeuronGroup(clock=Clock(dt=10. * usecond, name='defaultclock'), when=start, order=0, name='neurongroup')"
      ]
     },
     "execution_count": 11,
     "metadata": {},
     "output_type": "execute_result"
    }
   ],
   "source": [
    "group"
   ]
  },
  {
   "cell_type": "code",
   "execution_count": null,
   "id": "7e6ab974-f9ff-4802-a3aa-a941468422d8",
   "metadata": {},
   "outputs": [],
   "source": []
  }
 ],
 "metadata": {
  "kernelspec": {
   "display_name": "Python 3",
   "language": "python",
   "name": "python3"
  },
  "language_info": {
   "codemirror_mode": {
    "name": "ipython",
    "version": 3
   },
   "file_extension": ".py",
   "mimetype": "text/x-python",
   "name": "python",
   "nbconvert_exporter": "python",
   "pygments_lexer": "ipython3",
   "version": "3.8.8"
  }
 },
 "nbformat": 4,
 "nbformat_minor": 5
}
