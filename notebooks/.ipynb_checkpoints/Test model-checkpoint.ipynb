{
 "cells": [
  {
   "cell_type": "code",
   "execution_count": 1,
   "id": "70f95730-05ec-4ca6-a3a8-62dd0e055bc7",
   "metadata": {},
   "outputs": [],
   "source": [
    "import sys\n",
    "\n",
    "sys.path.insert(1, \"/home/vinicius/storage1/projects/model_damien\")"
   ]
  },
  {
   "cell_type": "code",
   "execution_count": 2,
   "id": "66d2c855-db48-4f3e-8cce-0ed5baf5f503",
   "metadata": {},
   "outputs": [],
   "source": [
    "import numpy as np"
   ]
  },
  {
   "cell_type": "code",
   "execution_count": 3,
   "id": "180093dd-6e7e-43b2-bc3f-b1f248b9da4a",
   "metadata": {},
   "outputs": [],
   "source": [
    "from brian2 import *\n",
    "\n",
    "from src.model import create_neuron_group, set_up_scope"
   ]
  },
  {
   "cell_type": "markdown",
   "id": "d4d46862-9a3a-49f5-bfed-a6f896f86e45",
   "metadata": {},
   "source": [
    "#### Set parameters to create neuron group"
   ]
  },
  {
   "cell_type": "code",
   "execution_count": 4,
   "id": "9b8c48cc-be6f-4780-bb0f-c28414a9d821",
   "metadata": {},
   "outputs": [],
   "source": [
    "kw_neuron_group = dict(\n",
    "    N=3000,\n",
    "    threshold=\"V>Vth\",\n",
    "    refractory=\"V>Vth\",\n",
    "    method=\"heun\",\n",
    "    init_states=[-15.0, 0.45, -3.5, -12.0],\n",
    "    k_bath=15.5,\n",
    "    eta_bar=0.1,\n",
    "    Delta=1.0,\n",
    "    connection_rule=\"i!=j\",\n",
    "    parameters_path=\"/home/vinicius/storage1/projects/model_damien/src/parameters.json\",\n",
    "    verbose=True,\n",
    ")"
   ]
  },
  {
   "cell_type": "markdown",
   "id": "ef1f8030-566b-4f32-af51-0ef2276ae7cb",
   "metadata": {},
   "source": [
    "#### Create neuronal group"
   ]
  },
  {
   "cell_type": "code",
   "execution_count": 5,
   "id": "ee7102c5-7841-4399-981b-bc137508f372",
   "metadata": {},
   "outputs": [
    {
     "name": "stdout",
     "output_type": "stream",
     "text": [
      "K_bath=15.50\n",
      "J=0.000\n"
     ]
    }
   ],
   "source": [
    "group, net, state_monitor, spike_monitor, fr_monitor = create_neuron_group(\n",
    "    **kw_neuron_group\n",
    ")"
   ]
  },
  {
   "cell_type": "markdown",
   "id": "2824347a-aec0-4a2c-9dee-e3de545a7269",
   "metadata": {},
   "source": [
    "#### Set up score and run simulation"
   ]
  },
  {
   "cell_type": "code",
   "execution_count": 6,
   "id": "4d899027-d05e-44bc-801a-c4e1089ecb4b",
   "metadata": {},
   "outputs": [],
   "source": [
    "runtime = set_up_scope(delta_t=0.01, duration=1 / 3)"
   ]
  },
  {
   "cell_type": "code",
   "execution_count": null,
   "id": "44de78cb-00c3-4940-8512-15c357a023d7",
   "metadata": {},
   "outputs": [
    {
     "name": "stderr",
     "output_type": "stream",
     "text": [
      "WARNING    Came across an abstract code block that may not be well-defined: the outcome may depend on the order of execution. You can ignore this warning if you are sure that the order of operations does not matter. Abstract code: 'V += J * (E - V) (in-place)'\n",
      " [brian2.codegen.generators.base]\n"
     ]
    },
    {
     "name": "stdout",
     "output_type": "stream",
     "text": [
      "Starting simulation at t=0. s for a duration of 20. s\n"
     ]
    }
   ],
   "source": [
    "net.run(runtime, report=\"stdout\", report_period=30 * second)"
   ]
  },
  {
   "cell_type": "code",
   "execution_count": null,
   "id": "23321d65-33b4-4d37-a6ba-0a21398b7dcb",
   "metadata": {},
   "outputs": [],
   "source": [
    "net.run(1 * second)"
   ]
  },
  {
   "cell_type": "code",
   "execution_count": null,
   "id": "fe12e5b2-b0ae-4a47-aa67-f3189cd07b49",
   "metadata": {},
   "outputs": [],
   "source": [
    "group"
   ]
  },
  {
   "cell_type": "code",
   "execution_count": null,
   "id": "7e6ab974-f9ff-4802-a3aa-a941468422d8",
   "metadata": {},
   "outputs": [],
   "source": []
  }
 ],
 "metadata": {
  "kernelspec": {
   "display_name": "Python 3",
   "language": "python",
   "name": "python3"
  },
  "language_info": {
   "codemirror_mode": {
    "name": "ipython",
    "version": 3
   },
   "file_extension": ".py",
   "mimetype": "text/x-python",
   "name": "python",
   "nbconvert_exporter": "python",
   "pygments_lexer": "ipython3",
   "version": "3.8.8"
  }
 },
 "nbformat": 4,
 "nbformat_minor": 5
}
